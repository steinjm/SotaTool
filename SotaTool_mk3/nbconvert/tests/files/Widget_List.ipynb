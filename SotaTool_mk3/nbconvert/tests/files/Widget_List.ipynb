version https://git-lfs.github.com/spec/v1
oid sha256:2ab32d13a130b6f7686396ad2efb0fab07d0b65ef280862f2540fc9e672068cf
size 96981
