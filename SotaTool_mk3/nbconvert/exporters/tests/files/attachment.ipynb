version https://git-lfs.github.com/spec/v1
oid sha256:51ae8d8de92a030cda35422316dd7882dde395f7a329867b43fcc9dcf731568d
size 45585
