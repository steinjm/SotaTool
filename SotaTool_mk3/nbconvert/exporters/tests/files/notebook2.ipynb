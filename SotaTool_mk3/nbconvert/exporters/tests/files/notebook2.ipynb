version https://git-lfs.github.com/spec/v1
oid sha256:9438fac2748379583c2affeb2c8e2caaacb499a10795eac7a2174fabcfbddb40
size 10436
