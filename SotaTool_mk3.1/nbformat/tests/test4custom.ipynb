version https://git-lfs.github.com/spec/v1
oid sha256:a74ad3eda66ef831521c2e2baacd7e13e4d2881fb5d953b24e680e376c67c3ab
size 883
