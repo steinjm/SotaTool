version https://git-lfs.github.com/spec/v1
oid sha256:9ad79d2bb7c230bd2835a50a415e6e13c9e134bd54d0a58fe9a74d9085699935
size 18237
