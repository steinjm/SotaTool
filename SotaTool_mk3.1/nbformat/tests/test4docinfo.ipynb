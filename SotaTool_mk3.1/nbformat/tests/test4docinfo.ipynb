version https://git-lfs.github.com/spec/v1
oid sha256:f73b4e95c0bcda80acaef12ce2291765a92dfed73afc9d4b423f29c93a1ad937
size 17427
