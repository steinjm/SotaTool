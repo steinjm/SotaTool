version https://git-lfs.github.com/spec/v1
oid sha256:0dd18d60d275c22a93442e1db43cbe8385b3df4a3fe971ba066fdaf5794d0372
size 977
