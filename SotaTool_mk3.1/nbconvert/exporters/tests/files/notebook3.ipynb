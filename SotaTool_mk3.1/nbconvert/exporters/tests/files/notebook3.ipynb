version https://git-lfs.github.com/spec/v1
oid sha256:ca39c7c1a4eb8106c5f044757db72b4101afb0414dd4c7ed1c7d448baedad3c3
size 997
