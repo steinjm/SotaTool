version https://git-lfs.github.com/spec/v1
oid sha256:c28d184331731a183213642cc6ed0505f62ab456276861e41b4eac65f0514ae6
size 17320
