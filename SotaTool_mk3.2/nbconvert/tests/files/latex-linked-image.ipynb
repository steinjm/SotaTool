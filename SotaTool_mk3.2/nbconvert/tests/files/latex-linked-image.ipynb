version https://git-lfs.github.com/spec/v1
oid sha256:10b525a1b15a86216ed38a11cfd682fa0e74a7beb9762af993e2624587eeb450
size 541
