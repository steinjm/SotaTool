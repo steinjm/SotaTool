version https://git-lfs.github.com/spec/v1
oid sha256:0a2e2a9b026c25747d2ef0d9be0a6b8df83ec768ecddc5e7b3e37391d7df9cf0
size 5670
