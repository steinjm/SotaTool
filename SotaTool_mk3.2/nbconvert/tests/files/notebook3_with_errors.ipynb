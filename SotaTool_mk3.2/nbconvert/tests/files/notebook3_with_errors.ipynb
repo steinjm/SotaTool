version https://git-lfs.github.com/spec/v1
oid sha256:93a61b886f8160698a9a847aa9687e2a539cf1567d6e33ff722beb1a19e5ab50
size 1318
