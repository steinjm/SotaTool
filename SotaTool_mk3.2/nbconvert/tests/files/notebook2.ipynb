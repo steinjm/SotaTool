version https://git-lfs.github.com/spec/v1
oid sha256:2997e526d980ccb132e6ad5ca9e89c8ac785ebaa72d2ed74aa443cfb4d41a227
size 125437
